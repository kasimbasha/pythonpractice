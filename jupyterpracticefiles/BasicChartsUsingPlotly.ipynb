{
 "cells": [
  {
   "cell_type": "code",
   "execution_count": 9,
   "id": "corresponding-sharing",
   "metadata": {},
   "outputs": [
    {
     "name": "stdout",
     "output_type": "stream",
     "text": [
      "Collecting chart_studio\n",
      "  Downloading chart_studio-1.1.0-py3-none-any.whl (64 kB)\n",
      "Requirement already satisfied: plotly in c:\\installations\\ds\\anaconda3\\envs\\python3\\lib\\site-packages (from chart_studio) (4.14.3)\n",
      "Requirement already satisfied: requests in c:\\installations\\ds\\anaconda3\\envs\\python3\\lib\\site-packages (from chart_studio) (2.25.1)\n",
      "Requirement already satisfied: retrying>=1.3.3 in c:\\installations\\ds\\anaconda3\\envs\\python3\\lib\\site-packages (from chart_studio) (1.3.3)\n",
      "Requirement already satisfied: six in c:\\installations\\ds\\anaconda3\\envs\\python3\\lib\\site-packages (from chart_studio) (1.15.0)\n",
      "Requirement already satisfied: urllib3<1.27,>=1.21.1 in c:\\installations\\ds\\anaconda3\\envs\\python3\\lib\\site-packages (from requests->chart_studio) (1.26.3)\n",
      "Requirement already satisfied: idna<3,>=2.5 in c:\\installations\\ds\\anaconda3\\envs\\python3\\lib\\site-packages (from requests->chart_studio) (2.10)\n",
      "Requirement already satisfied: chardet<5,>=3.0.2 in c:\\installations\\ds\\anaconda3\\envs\\python3\\lib\\site-packages (from requests->chart_studio) (4.0.0)\n",
      "Requirement already satisfied: certifi>=2017.4.17 in c:\\installations\\ds\\anaconda3\\envs\\python3\\lib\\site-packages (from requests->chart_studio) (2020.12.5)\n",
      "Installing collected packages: chart-studio\n",
      "Successfully installed chart-studio-1.1.0\n",
      "Note: you may need to restart the kernel to use updated packages.\n"
     ]
    }
   ],
   "source": [
    "pip install chart_studio"
   ]
  },
  {
   "cell_type": "code",
   "execution_count": 10,
   "id": "affected-spirit",
   "metadata": {},
   "outputs": [
    {
     "name": "stdout",
     "output_type": "stream",
     "text": [
      "Requirement already satisfied: cufflinks in c:\\installations\\ds\\anaconda3\\envs\\python3\\lib\\site-packages (0.17.3)\n",
      "Requirement already satisfied: numpy>=1.9.2 in c:\\installations\\ds\\anaconda3\\envs\\python3\\lib\\site-packages (from cufflinks) (1.19.2)\n",
      "Requirement already satisfied: pandas>=0.19.2 in c:\\installations\\ds\\anaconda3\\envs\\python3\\lib\\site-packages (from cufflinks) (1.2.1)\n",
      "Requirement already satisfied: colorlover>=0.2.1 in c:\\installations\\ds\\anaconda3\\envs\\python3\\lib\\site-packages (from cufflinks) (0.3.0)Note: you may need to restart the kernel to use updated packages.\n",
      "\n",
      "Requirement already satisfied: setuptools>=34.4.1 in c:\\installations\\ds\\anaconda3\\envs\\python3\\lib\\site-packages (from cufflinks) (52.0.0.post20210125)\n",
      "Requirement already satisfied: ipywidgets>=7.0.0 in c:\\installations\\ds\\anaconda3\\envs\\python3\\lib\\site-packages (from cufflinks) (7.6.3)\n",
      "Requirement already satisfied: six>=1.9.0 in c:\\installations\\ds\\anaconda3\\envs\\python3\\lib\\site-packages (from cufflinks) (1.15.0)\n",
      "Requirement already satisfied: ipython>=5.3.0 in c:\\installations\\ds\\anaconda3\\envs\\python3\\lib\\site-packages (from cufflinks) (7.20.0)\n",
      "Requirement already satisfied: plotly>=4.1.1 in c:\\installations\\ds\\anaconda3\\envs\\python3\\lib\\site-packages (from cufflinks) (4.14.3)\n",
      "Requirement already satisfied: pickleshare in c:\\installations\\ds\\anaconda3\\envs\\python3\\lib\\site-packages (from ipython>=5.3.0->cufflinks) (0.7.5)\n",
      "Requirement already satisfied: jedi>=0.16 in c:\\installations\\ds\\anaconda3\\envs\\python3\\lib\\site-packages (from ipython>=5.3.0->cufflinks) (0.17.0)\n",
      "Requirement already satisfied: decorator in c:\\installations\\ds\\anaconda3\\envs\\python3\\lib\\site-packages (from ipython>=5.3.0->cufflinks) (4.4.2)\n",
      "Requirement already satisfied: colorama in c:\\installations\\ds\\anaconda3\\envs\\python3\\lib\\site-packages (from ipython>=5.3.0->cufflinks) (0.4.4)\n",
      "Requirement already satisfied: pygments in c:\\installations\\ds\\anaconda3\\envs\\python3\\lib\\site-packages (from ipython>=5.3.0->cufflinks) (2.7.4)\n",
      "Requirement already satisfied: prompt-toolkit!=3.0.0,!=3.0.1,<3.1.0,>=2.0.0 in c:\\installations\\ds\\anaconda3\\envs\\python3\\lib\\site-packages (from ipython>=5.3.0->cufflinks) (3.0.8)\n",
      "Requirement already satisfied: traitlets>=4.2 in c:\\installations\\ds\\anaconda3\\envs\\python3\\lib\\site-packages (from ipython>=5.3.0->cufflinks) (5.0.5)\n",
      "Requirement already satisfied: backcall in c:\\installations\\ds\\anaconda3\\envs\\python3\\lib\\site-packages (from ipython>=5.3.0->cufflinks) (0.2.0)\n",
      "Requirement already satisfied: jupyterlab-widgets>=1.0.0 in c:\\installations\\ds\\anaconda3\\envs\\python3\\lib\\site-packages (from ipywidgets>=7.0.0->cufflinks) (1.0.0)\n",
      "Requirement already satisfied: widgetsnbextension~=3.5.0 in c:\\installations\\ds\\anaconda3\\envs\\python3\\lib\\site-packages (from ipywidgets>=7.0.0->cufflinks) (3.5.1)\n",
      "Requirement already satisfied: nbformat>=4.2.0 in c:\\installations\\ds\\anaconda3\\envs\\python3\\lib\\site-packages (from ipywidgets>=7.0.0->cufflinks) (5.1.2)\n",
      "Requirement already satisfied: ipykernel>=4.5.1 in c:\\installations\\ds\\anaconda3\\envs\\python3\\lib\\site-packages (from ipywidgets>=7.0.0->cufflinks) (5.3.4)\n",
      "Requirement already satisfied: tornado>=4.2 in c:\\installations\\ds\\anaconda3\\envs\\python3\\lib\\site-packages (from ipykernel>=4.5.1->ipywidgets>=7.0.0->cufflinks) (6.1)\n",
      "Requirement already satisfied: jupyter-client in c:\\installations\\ds\\anaconda3\\envs\\python3\\lib\\site-packages (from ipykernel>=4.5.1->ipywidgets>=7.0.0->cufflinks) (6.1.7)\n",
      "Requirement already satisfied: parso>=0.7.0 in c:\\installations\\ds\\anaconda3\\envs\\python3\\lib\\site-packages (from jedi>=0.16->ipython>=5.3.0->cufflinks) (0.8.1)\n",
      "Requirement already satisfied: ipython-genutils in c:\\installations\\ds\\anaconda3\\envs\\python3\\lib\\site-packages (from nbformat>=4.2.0->ipywidgets>=7.0.0->cufflinks) (0.2.0)\n",
      "Requirement already satisfied: jupyter-core in c:\\installations\\ds\\anaconda3\\envs\\python3\\lib\\site-packages (from nbformat>=4.2.0->ipywidgets>=7.0.0->cufflinks) (4.7.1)\n",
      "Requirement already satisfied: jsonschema!=2.5.0,>=2.4 in c:\\installations\\ds\\anaconda3\\envs\\python3\\lib\\site-packages (from nbformat>=4.2.0->ipywidgets>=7.0.0->cufflinks) (3.2.0)\n",
      "Requirement already satisfied: attrs>=17.4.0 in c:\\installations\\ds\\anaconda3\\envs\\python3\\lib\\site-packages (from jsonschema!=2.5.0,>=2.4->nbformat>=4.2.0->ipywidgets>=7.0.0->cufflinks) (20.3.0)\n",
      "Requirement already satisfied: pyrsistent>=0.14.0 in c:\\installations\\ds\\anaconda3\\envs\\python3\\lib\\site-packages (from jsonschema!=2.5.0,>=2.4->nbformat>=4.2.0->ipywidgets>=7.0.0->cufflinks) (0.17.3)\n",
      "Requirement already satisfied: pytz>=2017.3 in c:\\installations\\ds\\anaconda3\\envs\\python3\\lib\\site-packages (from pandas>=0.19.2->cufflinks) (2021.1)\n",
      "Requirement already satisfied: python-dateutil>=2.7.3 in c:\\installations\\ds\\anaconda3\\envs\\python3\\lib\\site-packages (from pandas>=0.19.2->cufflinks) (2.8.1)\n",
      "Requirement already satisfied: retrying>=1.3.3 in c:\\installations\\ds\\anaconda3\\envs\\python3\\lib\\site-packages (from plotly>=4.1.1->cufflinks) (1.3.3)\n",
      "Requirement already satisfied: wcwidth in c:\\installations\\ds\\anaconda3\\envs\\python3\\lib\\site-packages (from prompt-toolkit!=3.0.0,!=3.0.1,<3.1.0,>=2.0.0->ipython>=5.3.0->cufflinks) (0.2.5)\n",
      "Requirement already satisfied: notebook>=4.4.1 in c:\\installations\\ds\\anaconda3\\envs\\python3\\lib\\site-packages (from widgetsnbextension~=3.5.0->ipywidgets>=7.0.0->cufflinks) (6.2.0)\n",
      "Requirement already satisfied: terminado>=0.8.3 in c:\\installations\\ds\\anaconda3\\envs\\python3\\lib\\site-packages (from notebook>=4.4.1->widgetsnbextension~=3.5.0->ipywidgets>=7.0.0->cufflinks) (0.9.2)\n",
      "Requirement already satisfied: jinja2 in c:\\installations\\ds\\anaconda3\\envs\\python3\\lib\\site-packages (from notebook>=4.4.1->widgetsnbextension~=3.5.0->ipywidgets>=7.0.0->cufflinks) (2.11.3)\n",
      "Requirement already satisfied: prometheus-client in c:\\installations\\ds\\anaconda3\\envs\\python3\\lib\\site-packages (from notebook>=4.4.1->widgetsnbextension~=3.5.0->ipywidgets>=7.0.0->cufflinks) (0.9.0)\n",
      "Requirement already satisfied: Send2Trash>=1.5.0 in c:\\installations\\ds\\anaconda3\\envs\\python3\\lib\\site-packages (from notebook>=4.4.1->widgetsnbextension~=3.5.0->ipywidgets>=7.0.0->cufflinks) (1.5.0)\n",
      "Requirement already satisfied: argon2-cffi in c:\\installations\\ds\\anaconda3\\envs\\python3\\lib\\site-packages (from notebook>=4.4.1->widgetsnbextension~=3.5.0->ipywidgets>=7.0.0->cufflinks) (20.1.0)\n",
      "Requirement already satisfied: nbconvert in c:\\installations\\ds\\anaconda3\\envs\\python3\\lib\\site-packages (from notebook>=4.4.1->widgetsnbextension~=3.5.0->ipywidgets>=7.0.0->cufflinks) (6.0.7)\n",
      "Requirement already satisfied: pyzmq>=17 in c:\\installations\\ds\\anaconda3\\envs\\python3\\lib\\site-packages (from notebook>=4.4.1->widgetsnbextension~=3.5.0->ipywidgets>=7.0.0->cufflinks) (20.0.0)\n",
      "Requirement already satisfied: pywin32>=1.0 in c:\\installations\\ds\\anaconda3\\envs\\python3\\lib\\site-packages (from jupyter-core->nbformat>=4.2.0->ipywidgets>=7.0.0->cufflinks) (227)\n",
      "Requirement already satisfied: pywinpty>=0.5 in c:\\installations\\ds\\anaconda3\\envs\\python3\\lib\\site-packages (from terminado>=0.8.3->notebook>=4.4.1->widgetsnbextension~=3.5.0->ipywidgets>=7.0.0->cufflinks) (0.5.7)\n",
      "Requirement already satisfied: cffi>=1.0.0 in c:\\installations\\ds\\anaconda3\\envs\\python3\\lib\\site-packages (from argon2-cffi->notebook>=4.4.1->widgetsnbextension~=3.5.0->ipywidgets>=7.0.0->cufflinks) (1.14.4)\n",
      "Requirement already satisfied: pycparser in c:\\installations\\ds\\anaconda3\\envs\\python3\\lib\\site-packages (from cffi>=1.0.0->argon2-cffi->notebook>=4.4.1->widgetsnbextension~=3.5.0->ipywidgets>=7.0.0->cufflinks) (2.20)\n",
      "Requirement already satisfied: MarkupSafe>=0.23 in c:\\installations\\ds\\anaconda3\\envs\\python3\\lib\\site-packages (from jinja2->notebook>=4.4.1->widgetsnbextension~=3.5.0->ipywidgets>=7.0.0->cufflinks) (1.1.1)\n",
      "Requirement already satisfied: pandocfilters>=1.4.1 in c:\\installations\\ds\\anaconda3\\envs\\python3\\lib\\site-packages (from nbconvert->notebook>=4.4.1->widgetsnbextension~=3.5.0->ipywidgets>=7.0.0->cufflinks) (1.4.3)\n",
      "Requirement already satisfied: nbclient<0.6.0,>=0.5.0 in c:\\installations\\ds\\anaconda3\\envs\\python3\\lib\\site-packages (from nbconvert->notebook>=4.4.1->widgetsnbextension~=3.5.0->ipywidgets>=7.0.0->cufflinks) (0.5.1)\n",
      "Requirement already satisfied: defusedxml in c:\\installations\\ds\\anaconda3\\envs\\python3\\lib\\site-packages (from nbconvert->notebook>=4.4.1->widgetsnbextension~=3.5.0->ipywidgets>=7.0.0->cufflinks) (0.6.0)\n",
      "Requirement already satisfied: mistune<2,>=0.8.1 in c:\\installations\\ds\\anaconda3\\envs\\python3\\lib\\site-packages (from nbconvert->notebook>=4.4.1->widgetsnbextension~=3.5.0->ipywidgets>=7.0.0->cufflinks) (0.8.4)\n",
      "Requirement already satisfied: entrypoints>=0.2.2 in c:\\installations\\ds\\anaconda3\\envs\\python3\\lib\\site-packages (from nbconvert->notebook>=4.4.1->widgetsnbextension~=3.5.0->ipywidgets>=7.0.0->cufflinks) (0.3)\n",
      "Requirement already satisfied: testpath in c:\\installations\\ds\\anaconda3\\envs\\python3\\lib\\site-packages (from nbconvert->notebook>=4.4.1->widgetsnbextension~=3.5.0->ipywidgets>=7.0.0->cufflinks) (0.4.4)\n",
      "Requirement already satisfied: jupyterlab-pygments in c:\\installations\\ds\\anaconda3\\envs\\python3\\lib\\site-packages (from nbconvert->notebook>=4.4.1->widgetsnbextension~=3.5.0->ipywidgets>=7.0.0->cufflinks) (0.1.2)\n",
      "Requirement already satisfied: bleach in c:\\installations\\ds\\anaconda3\\envs\\python3\\lib\\site-packages (from nbconvert->notebook>=4.4.1->widgetsnbextension~=3.5.0->ipywidgets>=7.0.0->cufflinks) (3.3.0)\n",
      "Requirement already satisfied: nest-asyncio in c:\\installations\\ds\\anaconda3\\envs\\python3\\lib\\site-packages (from nbclient<0.6.0,>=0.5.0->nbconvert->notebook>=4.4.1->widgetsnbextension~=3.5.0->ipywidgets>=7.0.0->cufflinks) (1.4.3)\n",
      "Requirement already satisfied: async-generator in c:\\installations\\ds\\anaconda3\\envs\\python3\\lib\\site-packages (from nbclient<0.6.0,>=0.5.0->nbconvert->notebook>=4.4.1->widgetsnbextension~=3.5.0->ipywidgets>=7.0.0->cufflinks) (1.10)\n",
      "Requirement already satisfied: packaging in c:\\installations\\ds\\anaconda3\\envs\\python3\\lib\\site-packages (from bleach->nbconvert->notebook>=4.4.1->widgetsnbextension~=3.5.0->ipywidgets>=7.0.0->cufflinks) (20.9)\n",
      "Requirement already satisfied: webencodings in c:\\installations\\ds\\anaconda3\\envs\\python3\\lib\\site-packages (from bleach->nbconvert->notebook>=4.4.1->widgetsnbextension~=3.5.0->ipywidgets>=7.0.0->cufflinks) (0.5.1)\n",
      "Requirement already satisfied: pyparsing>=2.0.2 in c:\\installations\\ds\\anaconda3\\envs\\python3\\lib\\site-packages (from packaging->bleach->nbconvert->notebook>=4.4.1->widgetsnbextension~=3.5.0->ipywidgets>=7.0.0->cufflinks) (2.4.7)\n"
     ]
    }
   ],
   "source": [
    "pip install cufflinks"
   ]
  },
  {
   "cell_type": "code",
   "execution_count": 35,
   "id": "severe-ireland",
   "metadata": {},
   "outputs": [],
   "source": [
    "import numpy as np\n",
    "import pandas as pd\n",
    "\n",
    "import cufflinks as cf\n",
    "\n",
    "import chart_studio.plotly as py\n",
    "import chart_studio.tools as tls\n",
    "import plotly.graph_objs as go"
   ]
  },
  {
   "cell_type": "code",
   "execution_count": 36,
   "id": "sunset-surname",
   "metadata": {},
   "outputs": [],
   "source": [
    "tls.set_credentials_file(username=\"kasim\",api_key='Z4Si5QRsFxxAPX0EdE5c')"
   ]
  },
  {
   "cell_type": "code",
   "execution_count": 37,
   "id": "exceptional-disease",
   "metadata": {},
   "outputs": [
    {
     "data": {
      "text/html": [
       "\n",
       "        <iframe\n",
       "            width=\"100%\"\n",
       "            height=\"525px\"\n",
       "            src=\"https://plotly.com/~kasim/1.embed\"\n",
       "            frameborder=\"0\"\n",
       "            allowfullscreen\n",
       "        ></iframe>\n",
       "        "
      ],
      "text/plain": [
       "<IPython.lib.display.IFrame at 0x21322472dc0>"
      ]
     },
     "execution_count": 37,
     "metadata": {},
     "output_type": "execute_result"
    }
   ],
   "source": [
    "a = np.linspace(start=0,stop=36,num=36)\n",
    "np.random.seed(25)\n",
    "b = np.random.uniform(low=0.0,high=1.0,size=36)\n",
    "trace = go.Scatter(x=a,y=b)\n",
    "data =[trace]\n",
    "py.iplot(data,filename=\"basic-line-chart\")"
   ]
  },
  {
   "cell_type": "code",
   "execution_count": 38,
   "id": "listed-placement",
   "metadata": {},
   "outputs": [
    {
     "data": {
      "text/html": [
       "\n",
       "        <iframe\n",
       "            width=\"100%\"\n",
       "            height=\"525px\"\n",
       "            src=\"https://plotly.com/~kasim/3.embed\"\n",
       "            frameborder=\"0\"\n",
       "            allowfullscreen\n",
       "        ></iframe>\n",
       "        "
      ],
      "text/plain": [
       "<IPython.lib.display.IFrame at 0x2132385a8e0>"
      ]
     },
     "execution_count": 38,
     "metadata": {},
     "output_type": "execute_result"
    }
   ],
   "source": [
    "address =\"C:/Users/Kasim Basha/jupyterpracticefiles/mtcars.csv\"\n",
    "cars = pd.read_csv(address)\n",
    "cars.columns =  [\"car_names\",\"mpg\",\"cyl\",\"disp\",\"hp\",\"drat\",\"wt\",\"qsec\",\"vs\",\"am\",\"gear\",\"carb\"]\n",
    "df=cars[[\"cyl\",\"wt\",\"mpg\"]]\n",
    "layout = dict(title=\" Chart from panda dataframe\",xaxis=dict(title=\"x-axis\"),yaxis=dict(title='y-axis'))\n",
    "df.iplot(filename=\"cf-simple-line-chart\",layout=layout)"
   ]
  },
  {
   "cell_type": "code",
   "execution_count": 39,
   "id": "becoming-shock",
   "metadata": {},
   "outputs": [
    {
     "name": "stdout",
     "output_type": "stream",
     "text": [
      "[Bar({\n",
      "    'x': [1, 2, 3, 4, 5, 6, 7, 8, 9, 10], 'y': [1, 2, 3, 4, 0.5, 4, 3, 2, 1]\n",
      "})]\n"
     ]
    }
   ],
   "source": [
    "data= [go.Bar(x=[1,2,3,4,5,6,7,8,9,10],y=[1,2,3,4,0.5,4,3,2,1])]\n",
    "print(data)"
   ]
  },
  {
   "cell_type": "code",
   "execution_count": 40,
   "id": "enabling-chambers",
   "metadata": {},
   "outputs": [
    {
     "data": {
      "text/html": [
       "\n",
       "        <iframe\n",
       "            width=\"100%\"\n",
       "            height=\"525px\"\n",
       "            src=\"https://plotly.com/~kasim/9.embed\"\n",
       "            frameborder=\"0\"\n",
       "            allowfullscreen\n",
       "        ></iframe>\n",
       "        "
      ],
      "text/plain": [
       "<IPython.lib.display.IFrame at 0x2132263d1c0>"
      ]
     },
     "execution_count": 40,
     "metadata": {},
     "output_type": "execute_result"
    }
   ],
   "source": [
    "layout= dict(title=\"simple bar chart\",xaxis=dict(title=\"x-axis\"),yaxis=dict(title='y-axis'))\n",
    "py.iplot(data,layout=layout)"
   ]
  },
  {
   "cell_type": "code",
   "execution_count": 41,
   "id": "adolescent-adventure",
   "metadata": {},
   "outputs": [
    {
     "data": {
      "text/html": [
       "\n",
       "        <iframe\n",
       "            width=\"100%\"\n",
       "            height=\"525px\"\n",
       "            src=\"https://plotly.com/~kasim/11.embed\"\n",
       "            frameborder=\"0\"\n",
       "            allowfullscreen\n",
       "        ></iframe>\n",
       "        "
      ],
      "text/plain": [
       "<IPython.lib.display.IFrame at 0x21323884130>"
      ]
     },
     "execution_count": 41,
     "metadata": {},
     "output_type": "execute_result"
    }
   ],
   "source": [
    "fig ={'data':[{'labels':['a','b','c','b','e'],\n",
    "              'values':[1,2,3,4,.5],\n",
    "              'type':'pie'}],\n",
    "     'layout':{'title':'Simple pie chart'}}\n",
    "py.iplot(fig)\n"
   ]
  },
  {
   "cell_type": "code",
   "execution_count": 43,
   "id": "dietary-vector",
   "metadata": {},
   "outputs": [],
   "source": [
    "import sklearn\n",
    "from sklearn.preprocessing import StandardScaler"
   ]
  },
  {
   "cell_type": "code",
   "execution_count": 45,
   "id": "developed-checkout",
   "metadata": {},
   "outputs": [
    {
     "data": {
      "text/html": [
       "\n",
       "        <iframe\n",
       "            width=\"100%\"\n",
       "            height=\"525px\"\n",
       "            src=\"https://plotly.com/~kasim/13.embed\"\n",
       "            frameborder=\"0\"\n",
       "            allowfullscreen\n",
       "        ></iframe>\n",
       "        "
      ],
      "text/plain": [
       "<IPython.lib.display.IFrame at 0x21322531160>"
      ]
     },
     "execution_count": 45,
     "metadata": {},
     "output_type": "execute_result"
    }
   ],
   "source": [
    "address =\"C:/Users/Kasim Basha/jupyterpracticefiles/mtcars.csv\"\n",
    "cars = pd.read_csv(address)\n",
    "cars.columns =  [\"car_names\",\"mpg\",\"cyl\",\"disp\",\"hp\",\"drat\",\"wt\",\"qsec\",\"vs\",\"am\",\"gear\",\"carb\"]\n",
    "mpg = cars.mpg\n",
    "mpg.iplot(kind=\"histogram\",filename=\"Simple histogram\")"
   ]
  },
  {
   "cell_type": "code",
   "execution_count": 51,
   "id": "according-transcription",
   "metadata": {},
   "outputs": [
    {
     "data": {
      "text/html": [
       "\n",
       "        <iframe\n",
       "            width=\"100%\"\n",
       "            height=\"525px\"\n",
       "            src=\"https://plotly.com/~kasim/15.embed\"\n",
       "            frameborder=\"0\"\n",
       "            allowfullscreen\n",
       "        ></iframe>\n",
       "        "
      ],
      "text/plain": [
       "<IPython.lib.display.IFrame at 0x21323d28a30>"
      ]
     },
     "execution_count": 51,
     "metadata": {},
     "output_type": "execute_result"
    }
   ],
   "source": [
    "cars_subset = cars[['mpg','disp','hp']]\n",
    "cars_data_std= StandardScaler().fit_transform(cars_subset)\n",
    "cars_selected = pd.DataFrame(cars_data_std)\n",
    "#print(cars_data_std)\n",
    "###print(cars_selected)\n",
    "cars_selected.columns=['mpg','disp','hp']\n",
    "cars_selected.iplot(kind=\"histogram\",filename=\"multiple-histo gram\")"
   ]
  },
  {
   "cell_type": "code",
   "execution_count": 57,
   "id": "faced-vector",
   "metadata": {},
   "outputs": [
    {
     "data": {
      "text/html": [
       "\n",
       "        <iframe\n",
       "            width=\"100%\"\n",
       "            height=\"525px\"\n",
       "            src=\"https://plotly.com/~kasim/17.embed\"\n",
       "            frameborder=\"0\"\n",
       "            allowfullscreen\n",
       "        ></iframe>\n",
       "        "
      ],
      "text/plain": [
       "<IPython.lib.display.IFrame at 0x21323d60f40>"
      ]
     },
     "execution_count": 57,
     "metadata": {},
     "output_type": "execute_result"
    }
   ],
   "source": [
    "cars_selected.iplot(kind=\"histogram\",subplots=True,filename=\"sub multiple-histo gram\")"
   ]
  },
  {
   "cell_type": "code",
   "execution_count": 58,
   "id": "viral-idaho",
   "metadata": {},
   "outputs": [
    {
     "data": {
      "text/html": [
       "\n",
       "        <iframe\n",
       "            width=\"100%\"\n",
       "            height=\"525px\"\n",
       "            src=\"https://plotly.com/~kasim/21.embed\"\n",
       "            frameborder=\"0\"\n",
       "            allowfullscreen\n",
       "        ></iframe>\n",
       "        "
      ],
      "text/plain": [
       "<IPython.lib.display.IFrame at 0x21324375850>"
      ]
     },
     "execution_count": 58,
     "metadata": {},
     "output_type": "execute_result"
    }
   ],
   "source": [
    "cars_selected.iplot(kind=\"histogram\",subplots=True,shape=(3,1),filename=\"sub histo gram\")"
   ]
  },
  {
   "cell_type": "code",
   "execution_count": 59,
   "id": "clinical-andrews",
   "metadata": {},
   "outputs": [
    {
     "data": {
      "text/html": [
       "\n",
       "        <iframe\n",
       "            width=\"100%\"\n",
       "            height=\"525px\"\n",
       "            src=\"https://plotly.com/~kasim/25.embed\"\n",
       "            frameborder=\"0\"\n",
       "            allowfullscreen\n",
       "        ></iframe>\n",
       "        "
      ],
      "text/plain": [
       "<IPython.lib.display.IFrame at 0x213224cd6a0>"
      ]
     },
     "execution_count": 59,
     "metadata": {},
     "output_type": "execute_result"
    }
   ],
   "source": [
    "cars_selected.iplot(kind=\"histogram\",subplots=True,shape=(1,3),filename=\"sub multiple-histo gram 1\")"
   ]
  },
  {
   "cell_type": "code",
   "execution_count": 60,
   "id": "looking-fever",
   "metadata": {},
   "outputs": [
    {
     "data": {
      "text/html": [
       "\n",
       "        <iframe\n",
       "            width=\"100%\"\n",
       "            height=\"525px\"\n",
       "            src=\"https://plotly.com/~kasim/27.embed\"\n",
       "            frameborder=\"0\"\n",
       "            allowfullscreen\n",
       "        ></iframe>\n",
       "        "
      ],
      "text/plain": [
       "<IPython.lib.display.IFrame at 0x21323ffcaf0>"
      ]
     },
     "execution_count": 60,
     "metadata": {},
     "output_type": "execute_result"
    }
   ],
   "source": [
    "cars_selected.iplot(kind=\"box\",filename=\"box-plot\")"
   ]
  },
  {
   "cell_type": "code",
   "execution_count": 63,
   "id": "boring-clark",
   "metadata": {},
   "outputs": [
    {
     "data": {
      "text/html": [
       "\n",
       "        <iframe\n",
       "            width=\"100%\"\n",
       "            height=\"525px\"\n",
       "            src=\"https://plotly.com/~kasim/29.embed\"\n",
       "            frameborder=\"0\"\n",
       "            allowfullscreen\n",
       "        ></iframe>\n",
       "        "
      ],
      "text/plain": [
       "<IPython.lib.display.IFrame at 0x21322641f40>"
      ]
     },
     "execution_count": 63,
     "metadata": {},
     "output_type": "execute_result"
    }
   ],
   "source": [
    "fig = {'data':[{'x': cars_selected.mpg, 'y':cars_selected.disp, 'mode':'markers', 'name':'mpg'},\n",
    "               {'x': cars_selected.hp, 'y':cars_selected.disp, 'mode':'markers', 'name':'hp'}],\n",
    "       'layout': {'xaxis':{'title':''}, 'yaxis':{'title':'Standardized Displacement'}}}\n",
    "py.iplot(fig, filename= 'grouped-scatter-plot')"
   ]
  },
  {
   "cell_type": "code",
   "execution_count": null,
   "id": "periodic-independence",
   "metadata": {},
   "outputs": [],
   "source": []
  }
 ],
 "metadata": {
  "kernelspec": {
   "display_name": "Python 3",
   "language": "python",
   "name": "python3"
  },
  "language_info": {
   "codemirror_mode": {
    "name": "ipython",
    "version": 3
   },
   "file_extension": ".py",
   "mimetype": "text/x-python",
   "name": "python",
   "nbconvert_exporter": "python",
   "pygments_lexer": "ipython3",
   "version": "3.8.5"
  }
 },
 "nbformat": 4,
 "nbformat_minor": 5
}
